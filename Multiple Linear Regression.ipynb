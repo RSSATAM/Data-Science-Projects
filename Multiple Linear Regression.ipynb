{
 "cells": [
  {
   "cell_type": "code",
   "execution_count": 1,
   "id": "e48e8e6d",
   "metadata": {},
   "outputs": [],
   "source": [
    "import pandas as pd\n",
    "import numpy as np\n",
    "import os\n",
    "data = pd.read_csv(\"Housing.csv\")"
   ]
  },
  {
   "cell_type": "code",
   "execution_count": 2,
   "id": "81b590d5",
   "metadata": {},
   "outputs": [
    {
     "name": "stdout",
     "output_type": "stream",
     "text": [
      "<class 'pandas.core.frame.DataFrame'>\n",
      "RangeIndex: 545 entries, 0 to 544\n",
      "Data columns (total 13 columns):\n",
      " #   Column            Non-Null Count  Dtype \n",
      "---  ------            --------------  ----- \n",
      " 0   price             545 non-null    int64 \n",
      " 1   area              545 non-null    int64 \n",
      " 2   bedrooms          545 non-null    int64 \n",
      " 3   bathrooms         545 non-null    int64 \n",
      " 4   stories           545 non-null    int64 \n",
      " 5   mainroad          545 non-null    object\n",
      " 6   guestroom         545 non-null    object\n",
      " 7   basement          545 non-null    object\n",
      " 8   hotwaterheating   545 non-null    object\n",
      " 9   airconditioning   545 non-null    object\n",
      " 10  parking           545 non-null    int64 \n",
      " 11  prefarea          545 non-null    object\n",
      " 12  furnishingstatus  545 non-null    object\n",
      "dtypes: int64(6), object(7)\n",
      "memory usage: 55.5+ KB\n"
     ]
    }
   ],
   "source": [
    "data.info()"
   ]
  },
  {
   "cell_type": "code",
   "execution_count": 3,
   "id": "67127a2a",
   "metadata": {},
   "outputs": [
    {
     "data": {
      "text/html": [
       "<div>\n",
       "<style scoped>\n",
       "    .dataframe tbody tr th:only-of-type {\n",
       "        vertical-align: middle;\n",
       "    }\n",
       "\n",
       "    .dataframe tbody tr th {\n",
       "        vertical-align: top;\n",
       "    }\n",
       "\n",
       "    .dataframe thead th {\n",
       "        text-align: right;\n",
       "    }\n",
       "</style>\n",
       "<table border=\"1\" class=\"dataframe\">\n",
       "  <thead>\n",
       "    <tr style=\"text-align: right;\">\n",
       "      <th></th>\n",
       "      <th>price</th>\n",
       "      <th>area</th>\n",
       "      <th>bedrooms</th>\n",
       "      <th>bathrooms</th>\n",
       "      <th>stories</th>\n",
       "      <th>mainroad</th>\n",
       "      <th>guestroom</th>\n",
       "      <th>basement</th>\n",
       "      <th>hotwaterheating</th>\n",
       "      <th>airconditioning</th>\n",
       "      <th>parking</th>\n",
       "      <th>prefarea</th>\n",
       "      <th>furnishingstatus</th>\n",
       "    </tr>\n",
       "  </thead>\n",
       "  <tbody>\n",
       "    <tr>\n",
       "      <th>0</th>\n",
       "      <td>13300000</td>\n",
       "      <td>7420</td>\n",
       "      <td>4</td>\n",
       "      <td>2</td>\n",
       "      <td>3</td>\n",
       "      <td>yes</td>\n",
       "      <td>no</td>\n",
       "      <td>no</td>\n",
       "      <td>no</td>\n",
       "      <td>yes</td>\n",
       "      <td>2</td>\n",
       "      <td>yes</td>\n",
       "      <td>furnished</td>\n",
       "    </tr>\n",
       "    <tr>\n",
       "      <th>1</th>\n",
       "      <td>12250000</td>\n",
       "      <td>8960</td>\n",
       "      <td>4</td>\n",
       "      <td>4</td>\n",
       "      <td>4</td>\n",
       "      <td>yes</td>\n",
       "      <td>no</td>\n",
       "      <td>no</td>\n",
       "      <td>no</td>\n",
       "      <td>yes</td>\n",
       "      <td>3</td>\n",
       "      <td>no</td>\n",
       "      <td>furnished</td>\n",
       "    </tr>\n",
       "    <tr>\n",
       "      <th>2</th>\n",
       "      <td>12250000</td>\n",
       "      <td>9960</td>\n",
       "      <td>3</td>\n",
       "      <td>2</td>\n",
       "      <td>2</td>\n",
       "      <td>yes</td>\n",
       "      <td>no</td>\n",
       "      <td>yes</td>\n",
       "      <td>no</td>\n",
       "      <td>no</td>\n",
       "      <td>2</td>\n",
       "      <td>yes</td>\n",
       "      <td>semi-furnished</td>\n",
       "    </tr>\n",
       "    <tr>\n",
       "      <th>3</th>\n",
       "      <td>12215000</td>\n",
       "      <td>7500</td>\n",
       "      <td>4</td>\n",
       "      <td>2</td>\n",
       "      <td>2</td>\n",
       "      <td>yes</td>\n",
       "      <td>no</td>\n",
       "      <td>yes</td>\n",
       "      <td>no</td>\n",
       "      <td>yes</td>\n",
       "      <td>3</td>\n",
       "      <td>yes</td>\n",
       "      <td>furnished</td>\n",
       "    </tr>\n",
       "    <tr>\n",
       "      <th>4</th>\n",
       "      <td>11410000</td>\n",
       "      <td>7420</td>\n",
       "      <td>4</td>\n",
       "      <td>1</td>\n",
       "      <td>2</td>\n",
       "      <td>yes</td>\n",
       "      <td>yes</td>\n",
       "      <td>yes</td>\n",
       "      <td>no</td>\n",
       "      <td>yes</td>\n",
       "      <td>2</td>\n",
       "      <td>no</td>\n",
       "      <td>furnished</td>\n",
       "    </tr>\n",
       "  </tbody>\n",
       "</table>\n",
       "</div>"
      ],
      "text/plain": [
       "      price  area  bedrooms  bathrooms  stories mainroad guestroom basement  \\\n",
       "0  13300000  7420         4          2        3      yes        no       no   \n",
       "1  12250000  8960         4          4        4      yes        no       no   \n",
       "2  12250000  9960         3          2        2      yes        no      yes   \n",
       "3  12215000  7500         4          2        2      yes        no      yes   \n",
       "4  11410000  7420         4          1        2      yes       yes      yes   \n",
       "\n",
       "  hotwaterheating airconditioning  parking prefarea furnishingstatus  \n",
       "0              no             yes        2      yes        furnished  \n",
       "1              no             yes        3       no        furnished  \n",
       "2              no              no        2      yes   semi-furnished  \n",
       "3              no             yes        3      yes        furnished  \n",
       "4              no             yes        2       no        furnished  "
      ]
     },
     "execution_count": 3,
     "metadata": {},
     "output_type": "execute_result"
    }
   ],
   "source": [
    "data.head()"
   ]
  },
  {
   "cell_type": "code",
   "execution_count": null,
   "id": "6e547ca7",
   "metadata": {},
   "outputs": [],
   "source": [
    " "
   ]
  },
  {
   "cell_type": "code",
   "execution_count": 4,
   "id": "da88750c",
   "metadata": {},
   "outputs": [
    {
     "data": {
      "text/plain": [
       "price               0\n",
       "area                0\n",
       "bedrooms            0\n",
       "bathrooms           0\n",
       "stories             0\n",
       "mainroad            0\n",
       "guestroom           0\n",
       "basement            0\n",
       "hotwaterheating     0\n",
       "airconditioning     0\n",
       "parking             0\n",
       "prefarea            0\n",
       "furnishingstatus    0\n",
       "dtype: int64"
      ]
     },
     "execution_count": 4,
     "metadata": {},
     "output_type": "execute_result"
    }
   ],
   "source": [
    "data.isnull().sum()"
   ]
  },
  {
   "cell_type": "code",
   "execution_count": null,
   "id": "169e13e9",
   "metadata": {},
   "outputs": [],
   "source": []
  },
  {
   "cell_type": "code",
   "execution_count": null,
   "id": "a4316db9",
   "metadata": {},
   "outputs": [],
   "source": []
  },
  {
   "cell_type": "code",
   "execution_count": null,
   "id": "05ee52b5",
   "metadata": {},
   "outputs": [],
   "source": []
  },
  {
   "cell_type": "code",
   "execution_count": null,
   "id": "c4d8d351",
   "metadata": {},
   "outputs": [],
   "source": []
  },
  {
   "cell_type": "code",
   "execution_count": null,
   "id": "f373af1b",
   "metadata": {},
   "outputs": [],
   "source": []
  },
  {
   "cell_type": "code",
   "execution_count": null,
   "id": "c80431c9",
   "metadata": {},
   "outputs": [],
   "source": []
  },
  {
   "cell_type": "code",
   "execution_count": null,
   "id": "1fb44451",
   "metadata": {},
   "outputs": [],
   "source": []
  },
  {
   "cell_type": "code",
   "execution_count": 5,
   "id": "7b20a591",
   "metadata": {},
   "outputs": [
    {
     "data": {
      "text/plain": [
       "array(['no', 'yes'], dtype=object)"
      ]
     },
     "execution_count": 5,
     "metadata": {},
     "output_type": "execute_result"
    }
   ],
   "source": [
    "data['guestroom'].unique()"
   ]
  },
  {
   "cell_type": "code",
   "execution_count": 6,
   "id": "0c8a01d6",
   "metadata": {},
   "outputs": [
    {
     "data": {
      "text/html": [
       "<div>\n",
       "<style scoped>\n",
       "    .dataframe tbody tr th:only-of-type {\n",
       "        vertical-align: middle;\n",
       "    }\n",
       "\n",
       "    .dataframe tbody tr th {\n",
       "        vertical-align: top;\n",
       "    }\n",
       "\n",
       "    .dataframe thead th {\n",
       "        text-align: right;\n",
       "    }\n",
       "</style>\n",
       "<table border=\"1\" class=\"dataframe\">\n",
       "  <thead>\n",
       "    <tr style=\"text-align: right;\">\n",
       "      <th></th>\n",
       "      <th>price</th>\n",
       "      <th>area</th>\n",
       "      <th>bedrooms</th>\n",
       "      <th>bathrooms</th>\n",
       "      <th>stories</th>\n",
       "      <th>mainroad</th>\n",
       "      <th>guestroom</th>\n",
       "      <th>basement</th>\n",
       "      <th>hotwaterheating</th>\n",
       "      <th>airconditioning</th>\n",
       "      <th>parking</th>\n",
       "      <th>prefarea</th>\n",
       "      <th>furnishingstatus</th>\n",
       "      <th>code</th>\n",
       "    </tr>\n",
       "  </thead>\n",
       "  <tbody>\n",
       "    <tr>\n",
       "      <th>0</th>\n",
       "      <td>13300000</td>\n",
       "      <td>7420</td>\n",
       "      <td>4</td>\n",
       "      <td>2</td>\n",
       "      <td>3</td>\n",
       "      <td>yes</td>\n",
       "      <td>no</td>\n",
       "      <td>no</td>\n",
       "      <td>no</td>\n",
       "      <td>yes</td>\n",
       "      <td>2</td>\n",
       "      <td>yes</td>\n",
       "      <td>furnished</td>\n",
       "      <td>0</td>\n",
       "    </tr>\n",
       "    <tr>\n",
       "      <th>1</th>\n",
       "      <td>12250000</td>\n",
       "      <td>8960</td>\n",
       "      <td>4</td>\n",
       "      <td>4</td>\n",
       "      <td>4</td>\n",
       "      <td>yes</td>\n",
       "      <td>no</td>\n",
       "      <td>no</td>\n",
       "      <td>no</td>\n",
       "      <td>yes</td>\n",
       "      <td>3</td>\n",
       "      <td>no</td>\n",
       "      <td>furnished</td>\n",
       "      <td>0</td>\n",
       "    </tr>\n",
       "    <tr>\n",
       "      <th>2</th>\n",
       "      <td>12250000</td>\n",
       "      <td>9960</td>\n",
       "      <td>3</td>\n",
       "      <td>2</td>\n",
       "      <td>2</td>\n",
       "      <td>yes</td>\n",
       "      <td>no</td>\n",
       "      <td>yes</td>\n",
       "      <td>no</td>\n",
       "      <td>no</td>\n",
       "      <td>2</td>\n",
       "      <td>yes</td>\n",
       "      <td>semi-furnished</td>\n",
       "      <td>0</td>\n",
       "    </tr>\n",
       "    <tr>\n",
       "      <th>3</th>\n",
       "      <td>12215000</td>\n",
       "      <td>7500</td>\n",
       "      <td>4</td>\n",
       "      <td>2</td>\n",
       "      <td>2</td>\n",
       "      <td>yes</td>\n",
       "      <td>no</td>\n",
       "      <td>yes</td>\n",
       "      <td>no</td>\n",
       "      <td>yes</td>\n",
       "      <td>3</td>\n",
       "      <td>yes</td>\n",
       "      <td>furnished</td>\n",
       "      <td>0</td>\n",
       "    </tr>\n",
       "    <tr>\n",
       "      <th>4</th>\n",
       "      <td>11410000</td>\n",
       "      <td>7420</td>\n",
       "      <td>4</td>\n",
       "      <td>1</td>\n",
       "      <td>2</td>\n",
       "      <td>yes</td>\n",
       "      <td>yes</td>\n",
       "      <td>yes</td>\n",
       "      <td>no</td>\n",
       "      <td>yes</td>\n",
       "      <td>2</td>\n",
       "      <td>no</td>\n",
       "      <td>furnished</td>\n",
       "      <td>1</td>\n",
       "    </tr>\n",
       "  </tbody>\n",
       "</table>\n",
       "</div>"
      ],
      "text/plain": [
       "      price  area  bedrooms  bathrooms  stories mainroad guestroom basement  \\\n",
       "0  13300000  7420         4          2        3      yes        no       no   \n",
       "1  12250000  8960         4          4        4      yes        no       no   \n",
       "2  12250000  9960         3          2        2      yes        no      yes   \n",
       "3  12215000  7500         4          2        2      yes        no      yes   \n",
       "4  11410000  7420         4          1        2      yes       yes      yes   \n",
       "\n",
       "  hotwaterheating airconditioning  parking prefarea furnishingstatus  code  \n",
       "0              no             yes        2      yes        furnished     0  \n",
       "1              no             yes        3       no        furnished     0  \n",
       "2              no              no        2      yes   semi-furnished     0  \n",
       "3              no             yes        3      yes        furnished     0  \n",
       "4              no             yes        2       no        furnished     1  "
      ]
     },
     "execution_count": 6,
     "metadata": {},
     "output_type": "execute_result"
    }
   ],
   "source": [
    "data['code']=pd.factorize(data.guestroom)[0]\n",
    "data.head()"
   ]
  },
  {
   "cell_type": "code",
   "execution_count": 71,
   "id": "524f58b5",
   "metadata": {},
   "outputs": [
    {
     "data": {
      "text/plain": [
       "guestroom\n",
       "no     448\n",
       "yes     97\n",
       "Name: count, dtype: int64"
      ]
     },
     "execution_count": 71,
     "metadata": {},
     "output_type": "execute_result"
    }
   ],
   "source": [
    "data['guestroom'].value_counts()"
   ]
  },
  {
   "cell_type": "code",
   "execution_count": 72,
   "id": "73e3b3af",
   "metadata": {},
   "outputs": [
    {
     "data": {
      "text/plain": [
       "code\n",
       "0    448\n",
       "1     97\n",
       "Name: count, dtype: int64"
      ]
     },
     "execution_count": 72,
     "metadata": {},
     "output_type": "execute_result"
    }
   ],
   "source": [
    "data['code'].value_counts()"
   ]
  },
  {
   "cell_type": "code",
   "execution_count": null,
   "id": "494a48cf",
   "metadata": {},
   "outputs": [],
   "source": []
  },
  {
   "cell_type": "code",
   "execution_count": 73,
   "id": "4d0a034a",
   "metadata": {},
   "outputs": [
    {
     "data": {
      "text/html": [
       "<div>\n",
       "<style scoped>\n",
       "    .dataframe tbody tr th:only-of-type {\n",
       "        vertical-align: middle;\n",
       "    }\n",
       "\n",
       "    .dataframe tbody tr th {\n",
       "        vertical-align: top;\n",
       "    }\n",
       "\n",
       "    .dataframe thead th {\n",
       "        text-align: right;\n",
       "    }\n",
       "</style>\n",
       "<table border=\"1\" class=\"dataframe\">\n",
       "  <thead>\n",
       "    <tr style=\"text-align: right;\">\n",
       "      <th></th>\n",
       "      <th>bathrooms</th>\n",
       "      <th>bedrooms</th>\n",
       "      <th>code</th>\n",
       "    </tr>\n",
       "  </thead>\n",
       "  <tbody>\n",
       "    <tr>\n",
       "      <th>0</th>\n",
       "      <td>2</td>\n",
       "      <td>4</td>\n",
       "      <td>0</td>\n",
       "    </tr>\n",
       "    <tr>\n",
       "      <th>1</th>\n",
       "      <td>4</td>\n",
       "      <td>4</td>\n",
       "      <td>0</td>\n",
       "    </tr>\n",
       "    <tr>\n",
       "      <th>2</th>\n",
       "      <td>2</td>\n",
       "      <td>3</td>\n",
       "      <td>0</td>\n",
       "    </tr>\n",
       "    <tr>\n",
       "      <th>3</th>\n",
       "      <td>2</td>\n",
       "      <td>4</td>\n",
       "      <td>0</td>\n",
       "    </tr>\n",
       "    <tr>\n",
       "      <th>4</th>\n",
       "      <td>1</td>\n",
       "      <td>4</td>\n",
       "      <td>1</td>\n",
       "    </tr>\n",
       "    <tr>\n",
       "      <th>...</th>\n",
       "      <td>...</td>\n",
       "      <td>...</td>\n",
       "      <td>...</td>\n",
       "    </tr>\n",
       "    <tr>\n",
       "      <th>540</th>\n",
       "      <td>1</td>\n",
       "      <td>2</td>\n",
       "      <td>0</td>\n",
       "    </tr>\n",
       "    <tr>\n",
       "      <th>541</th>\n",
       "      <td>1</td>\n",
       "      <td>3</td>\n",
       "      <td>0</td>\n",
       "    </tr>\n",
       "    <tr>\n",
       "      <th>542</th>\n",
       "      <td>1</td>\n",
       "      <td>2</td>\n",
       "      <td>0</td>\n",
       "    </tr>\n",
       "    <tr>\n",
       "      <th>543</th>\n",
       "      <td>1</td>\n",
       "      <td>3</td>\n",
       "      <td>0</td>\n",
       "    </tr>\n",
       "    <tr>\n",
       "      <th>544</th>\n",
       "      <td>1</td>\n",
       "      <td>3</td>\n",
       "      <td>0</td>\n",
       "    </tr>\n",
       "  </tbody>\n",
       "</table>\n",
       "<p>545 rows × 3 columns</p>\n",
       "</div>"
      ],
      "text/plain": [
       "     bathrooms  bedrooms  code\n",
       "0            2         4     0\n",
       "1            4         4     0\n",
       "2            2         3     0\n",
       "3            2         4     0\n",
       "4            1         4     1\n",
       "..         ...       ...   ...\n",
       "540          1         2     0\n",
       "541          1         3     0\n",
       "542          1         2     0\n",
       "543          1         3     0\n",
       "544          1         3     0\n",
       "\n",
       "[545 rows x 3 columns]"
      ]
     },
     "execution_count": 73,
     "metadata": {},
     "output_type": "execute_result"
    }
   ],
   "source": [
    "columns=['bathrooms','bedrooms','code']\n",
    "X = data[columns]\n",
    "X"
   ]
  },
  {
   "cell_type": "code",
   "execution_count": 74,
   "id": "d7884767",
   "metadata": {},
   "outputs": [
    {
     "data": {
      "text/plain": [
       "0      13300000\n",
       "1      12250000\n",
       "2      12250000\n",
       "3      12215000\n",
       "4      11410000\n",
       "         ...   \n",
       "540     1820000\n",
       "541     1767150\n",
       "542     1750000\n",
       "543     1750000\n",
       "544     1750000\n",
       "Name: price, Length: 545, dtype: int64"
      ]
     },
     "execution_count": 74,
     "metadata": {},
     "output_type": "execute_result"
    }
   ],
   "source": [
    "y = data['price']\n",
    "y"
   ]
  },
  {
   "cell_type": "code",
   "execution_count": 75,
   "id": "d940c178",
   "metadata": {},
   "outputs": [],
   "source": [
    "from sklearn.model_selection import train_test_split\n",
    "X_test, X_train, y_test, y_train = train_test_split(X, y, test_size = 0.4, random_state = 30)"
   ]
  },
  {
   "cell_type": "code",
   "execution_count": 76,
   "id": "ff56aa7a",
   "metadata": {},
   "outputs": [
    {
     "data": {
      "text/html": [
       "<div>\n",
       "<style scoped>\n",
       "    .dataframe tbody tr th:only-of-type {\n",
       "        vertical-align: middle;\n",
       "    }\n",
       "\n",
       "    .dataframe tbody tr th {\n",
       "        vertical-align: top;\n",
       "    }\n",
       "\n",
       "    .dataframe thead th {\n",
       "        text-align: right;\n",
       "    }\n",
       "</style>\n",
       "<table border=\"1\" class=\"dataframe\">\n",
       "  <thead>\n",
       "    <tr style=\"text-align: right;\">\n",
       "      <th></th>\n",
       "      <th>bathrooms</th>\n",
       "      <th>bedrooms</th>\n",
       "      <th>code</th>\n",
       "    </tr>\n",
       "  </thead>\n",
       "  <tbody>\n",
       "    <tr>\n",
       "      <th>351</th>\n",
       "      <td>1</td>\n",
       "      <td>2</td>\n",
       "      <td>0</td>\n",
       "    </tr>\n",
       "    <tr>\n",
       "      <th>235</th>\n",
       "      <td>1</td>\n",
       "      <td>3</td>\n",
       "      <td>1</td>\n",
       "    </tr>\n",
       "    <tr>\n",
       "      <th>60</th>\n",
       "      <td>2</td>\n",
       "      <td>3</td>\n",
       "      <td>1</td>\n",
       "    </tr>\n",
       "    <tr>\n",
       "      <th>126</th>\n",
       "      <td>1</td>\n",
       "      <td>3</td>\n",
       "      <td>0</td>\n",
       "    </tr>\n",
       "    <tr>\n",
       "      <th>357</th>\n",
       "      <td>1</td>\n",
       "      <td>4</td>\n",
       "      <td>0</td>\n",
       "    </tr>\n",
       "    <tr>\n",
       "      <th>...</th>\n",
       "      <td>...</td>\n",
       "      <td>...</td>\n",
       "      <td>...</td>\n",
       "    </tr>\n",
       "    <tr>\n",
       "      <th>254</th>\n",
       "      <td>1</td>\n",
       "      <td>4</td>\n",
       "      <td>0</td>\n",
       "    </tr>\n",
       "    <tr>\n",
       "      <th>2</th>\n",
       "      <td>2</td>\n",
       "      <td>3</td>\n",
       "      <td>0</td>\n",
       "    </tr>\n",
       "    <tr>\n",
       "      <th>296</th>\n",
       "      <td>2</td>\n",
       "      <td>3</td>\n",
       "      <td>0</td>\n",
       "    </tr>\n",
       "    <tr>\n",
       "      <th>418</th>\n",
       "      <td>1</td>\n",
       "      <td>4</td>\n",
       "      <td>0</td>\n",
       "    </tr>\n",
       "    <tr>\n",
       "      <th>542</th>\n",
       "      <td>1</td>\n",
       "      <td>2</td>\n",
       "      <td>0</td>\n",
       "    </tr>\n",
       "  </tbody>\n",
       "</table>\n",
       "<p>218 rows × 3 columns</p>\n",
       "</div>"
      ],
      "text/plain": [
       "     bathrooms  bedrooms  code\n",
       "351          1         2     0\n",
       "235          1         3     1\n",
       "60           2         3     1\n",
       "126          1         3     0\n",
       "357          1         4     0\n",
       "..         ...       ...   ...\n",
       "254          1         4     0\n",
       "2            2         3     0\n",
       "296          2         3     0\n",
       "418          1         4     0\n",
       "542          1         2     0\n",
       "\n",
       "[218 rows x 3 columns]"
      ]
     },
     "execution_count": 76,
     "metadata": {},
     "output_type": "execute_result"
    }
   ],
   "source": [
    "X_train"
   ]
  },
  {
   "cell_type": "code",
   "execution_count": 77,
   "id": "5187a6e8",
   "metadata": {},
   "outputs": [
    {
     "data": {
      "text/plain": [
       "351     3780000\n",
       "235     4620000\n",
       "60      7140000\n",
       "126     5880000\n",
       "357     3773000\n",
       "         ...   \n",
       "254     4480000\n",
       "2      12250000\n",
       "296     4200000\n",
       "418     3360000\n",
       "542     1750000\n",
       "Name: price, Length: 218, dtype: int64"
      ]
     },
     "execution_count": 77,
     "metadata": {},
     "output_type": "execute_result"
    }
   ],
   "source": [
    "y_train"
   ]
  },
  {
   "cell_type": "code",
   "execution_count": 78,
   "id": "d3c260f9",
   "metadata": {},
   "outputs": [],
   "source": [
    "from sklearn.linear_model import LinearRegression"
   ]
  },
  {
   "cell_type": "code",
   "execution_count": 79,
   "id": "318dea1d",
   "metadata": {},
   "outputs": [
    {
     "data": {
      "text/html": [
       "<style>#sk-container-id-9 {color: black;}#sk-container-id-9 pre{padding: 0;}#sk-container-id-9 div.sk-toggleable {background-color: white;}#sk-container-id-9 label.sk-toggleable__label {cursor: pointer;display: block;width: 100%;margin-bottom: 0;padding: 0.3em;box-sizing: border-box;text-align: center;}#sk-container-id-9 label.sk-toggleable__label-arrow:before {content: \"▸\";float: left;margin-right: 0.25em;color: #696969;}#sk-container-id-9 label.sk-toggleable__label-arrow:hover:before {color: black;}#sk-container-id-9 div.sk-estimator:hover label.sk-toggleable__label-arrow:before {color: black;}#sk-container-id-9 div.sk-toggleable__content {max-height: 0;max-width: 0;overflow: hidden;text-align: left;background-color: #f0f8ff;}#sk-container-id-9 div.sk-toggleable__content pre {margin: 0.2em;color: black;border-radius: 0.25em;background-color: #f0f8ff;}#sk-container-id-9 input.sk-toggleable__control:checked~div.sk-toggleable__content {max-height: 200px;max-width: 100%;overflow: auto;}#sk-container-id-9 input.sk-toggleable__control:checked~label.sk-toggleable__label-arrow:before {content: \"▾\";}#sk-container-id-9 div.sk-estimator input.sk-toggleable__control:checked~label.sk-toggleable__label {background-color: #d4ebff;}#sk-container-id-9 div.sk-label input.sk-toggleable__control:checked~label.sk-toggleable__label {background-color: #d4ebff;}#sk-container-id-9 input.sk-hidden--visually {border: 0;clip: rect(1px 1px 1px 1px);clip: rect(1px, 1px, 1px, 1px);height: 1px;margin: -1px;overflow: hidden;padding: 0;position: absolute;width: 1px;}#sk-container-id-9 div.sk-estimator {font-family: monospace;background-color: #f0f8ff;border: 1px dotted black;border-radius: 0.25em;box-sizing: border-box;margin-bottom: 0.5em;}#sk-container-id-9 div.sk-estimator:hover {background-color: #d4ebff;}#sk-container-id-9 div.sk-parallel-item::after {content: \"\";width: 100%;border-bottom: 1px solid gray;flex-grow: 1;}#sk-container-id-9 div.sk-label:hover label.sk-toggleable__label {background-color: #d4ebff;}#sk-container-id-9 div.sk-serial::before {content: \"\";position: absolute;border-left: 1px solid gray;box-sizing: border-box;top: 0;bottom: 0;left: 50%;z-index: 0;}#sk-container-id-9 div.sk-serial {display: flex;flex-direction: column;align-items: center;background-color: white;padding-right: 0.2em;padding-left: 0.2em;position: relative;}#sk-container-id-9 div.sk-item {position: relative;z-index: 1;}#sk-container-id-9 div.sk-parallel {display: flex;align-items: stretch;justify-content: center;background-color: white;position: relative;}#sk-container-id-9 div.sk-item::before, #sk-container-id-9 div.sk-parallel-item::before {content: \"\";position: absolute;border-left: 1px solid gray;box-sizing: border-box;top: 0;bottom: 0;left: 50%;z-index: -1;}#sk-container-id-9 div.sk-parallel-item {display: flex;flex-direction: column;z-index: 1;position: relative;background-color: white;}#sk-container-id-9 div.sk-parallel-item:first-child::after {align-self: flex-end;width: 50%;}#sk-container-id-9 div.sk-parallel-item:last-child::after {align-self: flex-start;width: 50%;}#sk-container-id-9 div.sk-parallel-item:only-child::after {width: 0;}#sk-container-id-9 div.sk-dashed-wrapped {border: 1px dashed gray;margin: 0 0.4em 0.5em 0.4em;box-sizing: border-box;padding-bottom: 0.4em;background-color: white;}#sk-container-id-9 div.sk-label label {font-family: monospace;font-weight: bold;display: inline-block;line-height: 1.2em;}#sk-container-id-9 div.sk-label-container {text-align: center;}#sk-container-id-9 div.sk-container {/* jupyter's `normalize.less` sets `[hidden] { display: none; }` but bootstrap.min.css set `[hidden] { display: none !important; }` so we also need the `!important` here to be able to override the default hidden behavior on the sphinx rendered scikit-learn.org. See: https://github.com/scikit-learn/scikit-learn/issues/21755 */display: inline-block !important;position: relative;}#sk-container-id-9 div.sk-text-repr-fallback {display: none;}</style><div id=\"sk-container-id-9\" class=\"sk-top-container\"><div class=\"sk-text-repr-fallback\"><pre>LinearRegression()</pre><b>In a Jupyter environment, please rerun this cell to show the HTML representation or trust the notebook. <br />On GitHub, the HTML representation is unable to render, please try loading this page with nbviewer.org.</b></div><div class=\"sk-container\" hidden><div class=\"sk-item\"><div class=\"sk-estimator sk-toggleable\"><input class=\"sk-toggleable__control sk-hidden--visually\" id=\"sk-estimator-id-9\" type=\"checkbox\" checked><label for=\"sk-estimator-id-9\" class=\"sk-toggleable__label sk-toggleable__label-arrow\">LinearRegression</label><div class=\"sk-toggleable__content\"><pre>LinearRegression()</pre></div></div></div></div></div>"
      ],
      "text/plain": [
       "LinearRegression()"
      ]
     },
     "execution_count": 79,
     "metadata": {},
     "output_type": "execute_result"
    }
   ],
   "source": [
    "\n",
    "rs = LinearRegression()\n",
    "rs"
   ]
  },
  {
   "cell_type": "code",
   "execution_count": 80,
   "id": "68bd27e2",
   "metadata": {},
   "outputs": [
    {
     "data": {
      "text/html": [
       "<style>#sk-container-id-10 {color: black;}#sk-container-id-10 pre{padding: 0;}#sk-container-id-10 div.sk-toggleable {background-color: white;}#sk-container-id-10 label.sk-toggleable__label {cursor: pointer;display: block;width: 100%;margin-bottom: 0;padding: 0.3em;box-sizing: border-box;text-align: center;}#sk-container-id-10 label.sk-toggleable__label-arrow:before {content: \"▸\";float: left;margin-right: 0.25em;color: #696969;}#sk-container-id-10 label.sk-toggleable__label-arrow:hover:before {color: black;}#sk-container-id-10 div.sk-estimator:hover label.sk-toggleable__label-arrow:before {color: black;}#sk-container-id-10 div.sk-toggleable__content {max-height: 0;max-width: 0;overflow: hidden;text-align: left;background-color: #f0f8ff;}#sk-container-id-10 div.sk-toggleable__content pre {margin: 0.2em;color: black;border-radius: 0.25em;background-color: #f0f8ff;}#sk-container-id-10 input.sk-toggleable__control:checked~div.sk-toggleable__content {max-height: 200px;max-width: 100%;overflow: auto;}#sk-container-id-10 input.sk-toggleable__control:checked~label.sk-toggleable__label-arrow:before {content: \"▾\";}#sk-container-id-10 div.sk-estimator input.sk-toggleable__control:checked~label.sk-toggleable__label {background-color: #d4ebff;}#sk-container-id-10 div.sk-label input.sk-toggleable__control:checked~label.sk-toggleable__label {background-color: #d4ebff;}#sk-container-id-10 input.sk-hidden--visually {border: 0;clip: rect(1px 1px 1px 1px);clip: rect(1px, 1px, 1px, 1px);height: 1px;margin: -1px;overflow: hidden;padding: 0;position: absolute;width: 1px;}#sk-container-id-10 div.sk-estimator {font-family: monospace;background-color: #f0f8ff;border: 1px dotted black;border-radius: 0.25em;box-sizing: border-box;margin-bottom: 0.5em;}#sk-container-id-10 div.sk-estimator:hover {background-color: #d4ebff;}#sk-container-id-10 div.sk-parallel-item::after {content: \"\";width: 100%;border-bottom: 1px solid gray;flex-grow: 1;}#sk-container-id-10 div.sk-label:hover label.sk-toggleable__label {background-color: #d4ebff;}#sk-container-id-10 div.sk-serial::before {content: \"\";position: absolute;border-left: 1px solid gray;box-sizing: border-box;top: 0;bottom: 0;left: 50%;z-index: 0;}#sk-container-id-10 div.sk-serial {display: flex;flex-direction: column;align-items: center;background-color: white;padding-right: 0.2em;padding-left: 0.2em;position: relative;}#sk-container-id-10 div.sk-item {position: relative;z-index: 1;}#sk-container-id-10 div.sk-parallel {display: flex;align-items: stretch;justify-content: center;background-color: white;position: relative;}#sk-container-id-10 div.sk-item::before, #sk-container-id-10 div.sk-parallel-item::before {content: \"\";position: absolute;border-left: 1px solid gray;box-sizing: border-box;top: 0;bottom: 0;left: 50%;z-index: -1;}#sk-container-id-10 div.sk-parallel-item {display: flex;flex-direction: column;z-index: 1;position: relative;background-color: white;}#sk-container-id-10 div.sk-parallel-item:first-child::after {align-self: flex-end;width: 50%;}#sk-container-id-10 div.sk-parallel-item:last-child::after {align-self: flex-start;width: 50%;}#sk-container-id-10 div.sk-parallel-item:only-child::after {width: 0;}#sk-container-id-10 div.sk-dashed-wrapped {border: 1px dashed gray;margin: 0 0.4em 0.5em 0.4em;box-sizing: border-box;padding-bottom: 0.4em;background-color: white;}#sk-container-id-10 div.sk-label label {font-family: monospace;font-weight: bold;display: inline-block;line-height: 1.2em;}#sk-container-id-10 div.sk-label-container {text-align: center;}#sk-container-id-10 div.sk-container {/* jupyter's `normalize.less` sets `[hidden] { display: none; }` but bootstrap.min.css set `[hidden] { display: none !important; }` so we also need the `!important` here to be able to override the default hidden behavior on the sphinx rendered scikit-learn.org. See: https://github.com/scikit-learn/scikit-learn/issues/21755 */display: inline-block !important;position: relative;}#sk-container-id-10 div.sk-text-repr-fallback {display: none;}</style><div id=\"sk-container-id-10\" class=\"sk-top-container\"><div class=\"sk-text-repr-fallback\"><pre>LinearRegression()</pre><b>In a Jupyter environment, please rerun this cell to show the HTML representation or trust the notebook. <br />On GitHub, the HTML representation is unable to render, please try loading this page with nbviewer.org.</b></div><div class=\"sk-container\" hidden><div class=\"sk-item\"><div class=\"sk-estimator sk-toggleable\"><input class=\"sk-toggleable__control sk-hidden--visually\" id=\"sk-estimator-id-10\" type=\"checkbox\" checked><label for=\"sk-estimator-id-10\" class=\"sk-toggleable__label sk-toggleable__label-arrow\">LinearRegression</label><div class=\"sk-toggleable__content\"><pre>LinearRegression()</pre></div></div></div></div></div>"
      ],
      "text/plain": [
       "LinearRegression()"
      ]
     },
     "execution_count": 80,
     "metadata": {},
     "output_type": "execute_result"
    }
   ],
   "source": [
    "# taining the model\n",
    "rs.fit(X_train,y_train)"
   ]
  },
  {
   "cell_type": "code",
   "execution_count": 81,
   "id": "b7a3bb0f",
   "metadata": {},
   "outputs": [
    {
     "data": {
      "text/plain": [
       "1728586.331409623"
      ]
     },
     "execution_count": 81,
     "metadata": {},
     "output_type": "execute_result"
    }
   ],
   "source": [
    "#y intercept (y = mx +c)\n",
    "c = rs.intercept_\n",
    "c"
   ]
  },
  {
   "cell_type": "code",
   "execution_count": 82,
   "id": "236c4c17",
   "metadata": {},
   "outputs": [
    {
     "data": {
      "text/plain": [
       "array([1206948.63844849,  473256.29372548,  658870.81837075])"
      ]
     },
     "execution_count": 82,
     "metadata": {},
     "output_type": "execute_result"
    }
   ],
   "source": [
    "# coefficient\n",
    "\n",
    "m= rs.coef_\n",
    "m"
   ]
  },
  {
   "cell_type": "code",
   "execution_count": 83,
   "id": "9ef569b2",
   "metadata": {},
   "outputs": [],
   "source": [
    "y_predict_train =rs.predict(X_train)\n",
    "y_predict_test =rs.predict(X_test)"
   ]
  },
  {
   "cell_type": "code",
   "execution_count": 84,
   "id": "b3f8ce49",
   "metadata": {},
   "outputs": [
    {
     "data": {
      "text/plain": [
       "array([3882047.55730906, 5014174.66940529, 6221123.30785378,\n",
       "       4355303.85103454, 4828560.14476002, 4355303.85103454,\n",
       "       4355303.85103454, 4355303.85103454, 4355303.85103454,\n",
       "       4540918.37567981, 5487430.96313077, 4355303.85103454,\n",
       "       6221123.30785378, 3882047.55730906, 3882047.55730906,\n",
       "       6221123.30785378, 4355303.85103454, 6035508.78320851,\n",
       "       3882047.55730906, 3882047.55730906, 3882047.55730906,\n",
       "       3882047.55730906, 5014174.66940529, 4540918.37567981,\n",
       "       6221123.30785378, 5014174.66940529, 5562252.48948303,\n",
       "       3882047.55730906, 5562252.48948303, 5562252.48948303,\n",
       "       5562252.48948303, 4355303.85103454, 6035508.78320851,\n",
       "       4828560.14476002, 5562252.48948303, 3882047.55730906,\n",
       "       4355303.85103454, 5014174.66940529, 3882047.55730906,\n",
       "       4540918.37567981, 5014174.66940529, 4355303.85103454,\n",
       "       4355303.85103454, 4355303.85103454, 3882047.55730906,\n",
       "       6035508.78320851, 6694379.60157925, 4355303.85103454,\n",
       "       3882047.55730906, 3882047.55730906, 4355303.85103454,\n",
       "       5014174.66940529, 4828560.14476002, 4355303.85103454,\n",
       "       4828560.14476002, 4355303.85103454, 3882047.55730906,\n",
       "       6035508.78320851, 6035508.78320851, 4355303.85103454,\n",
       "       5088996.19575755, 5487430.96313077, 3882047.55730906,\n",
       "       5088996.19575755, 6035508.78320851, 6221123.30785378,\n",
       "       4355303.85103454, 6035508.78320851, 4355303.85103454,\n",
       "       5014174.66940529, 4355303.85103454, 4355303.85103454,\n",
       "       3882047.55730906, 4828560.14476002, 4355303.85103454,\n",
       "       6035508.78320851, 4355303.85103454, 3882047.55730906,\n",
       "       6221123.30785378, 3882047.55730906, 6035508.78320851,\n",
       "       6035508.78320851, 5014174.66940529, 4540918.37567981,\n",
       "       3882047.55730906, 4355303.85103454, 3882047.55730906,\n",
       "       4355303.85103454, 6694379.60157925, 5562252.48948303,\n",
       "       5562252.48948303, 3882047.55730906, 4355303.85103454,\n",
       "       5562252.48948303, 4355303.85103454, 3882047.55730906,\n",
       "       5088996.19575755, 4355303.85103454, 5014174.66940529,\n",
       "       3882047.55730906, 5014174.66940529, 3882047.55730906,\n",
       "       4355303.85103454, 3882047.55730906, 4355303.85103454,\n",
       "       4355303.85103454, 7242457.42165699, 4355303.85103454,\n",
       "       4828560.14476002, 4355303.85103454, 3882047.55730906,\n",
       "       4355303.85103454, 4355303.85103454, 5014174.66940529,\n",
       "       4355303.85103454, 4355303.85103454, 5014174.66940529,\n",
       "       4355303.85103454, 5562252.48948303, 4828560.14476002,\n",
       "       4355303.85103454, 3882047.55730906, 4355303.85103454,\n",
       "       4355303.85103454, 3882047.55730906, 6035508.78320851,\n",
       "       3882047.55730906, 6221123.30785378, 4355303.85103454,\n",
       "       3882047.55730906, 3882047.55730906, 3882047.55730906,\n",
       "       4355303.85103454, 4355303.85103454, 4355303.85103454,\n",
       "       7242457.42165699, 5562252.48948303, 3882047.55730906,\n",
       "       4355303.85103454, 7428071.94630226, 4355303.85103454,\n",
       "       4828560.14476002, 5562252.48948303, 3882047.55730906,\n",
       "       6035508.78320851, 3882047.55730906, 5562252.48948303,\n",
       "       4355303.85103454, 5562252.48948303, 4355303.85103454,\n",
       "       4355303.85103454, 4828560.14476002, 4828560.14476002,\n",
       "       3882047.55730906, 4355303.85103454, 5562252.48948303,\n",
       "       5562252.48948303, 6221123.30785378, 3882047.55730906,\n",
       "       3882047.55730906, 5562252.48948303, 6982021.37065946,\n",
       "       4355303.85103454, 3882047.55730906, 4828560.14476002,\n",
       "       4355303.85103454, 5562252.48948303, 4355303.85103454,\n",
       "       5014174.66940529, 4355303.85103454, 5562252.48948303,\n",
       "       4355303.85103454, 4355303.85103454, 4355303.85103454,\n",
       "       4355303.85103454, 4355303.85103454, 4828560.14476002,\n",
       "       5014174.66940529, 4355303.85103454, 4355303.85103454,\n",
       "       3882047.55730906, 3882047.55730906, 6694379.60157925,\n",
       "       4355303.85103454, 4355303.85103454, 5014174.66940529,\n",
       "       4355303.85103454, 4355303.85103454, 6035508.78320851,\n",
       "       6035508.78320851, 6694379.60157925, 4355303.85103454,\n",
       "       3882047.55730906, 3882047.55730906, 4355303.85103454,\n",
       "       6035508.78320851, 4355303.85103454, 3882047.55730906,\n",
       "       6035508.78320851, 6035508.78320851, 5014174.66940529,\n",
       "       5014174.66940529, 3882047.55730906, 4355303.85103454,\n",
       "       3882047.55730906, 3882047.55730906, 5562252.48948303,\n",
       "       4355303.85103454, 4540918.37567981, 4355303.85103454,\n",
       "       4828560.14476002, 4355303.85103454, 3882047.55730906,\n",
       "       4828560.14476002, 5562252.48948303, 5562252.48948303,\n",
       "       4828560.14476002, 3882047.55730906])"
      ]
     },
     "execution_count": 84,
     "metadata": {},
     "output_type": "execute_result"
    }
   ],
   "source": [
    "y_predict_train"
   ]
  },
  {
   "cell_type": "code",
   "execution_count": 85,
   "id": "4a27369f",
   "metadata": {},
   "outputs": [
    {
     "data": {
      "text/plain": [
       "array([6221123.30785378, 3882047.55730906, 4355303.85103454,\n",
       "       7242457.42165699, 5088996.19575755, 5562252.48948303,\n",
       "       4355303.85103454, 5562252.48948303, 3882047.55730906,\n",
       "       4355303.85103454, 5014174.66940529, 3882047.55730906,\n",
       "       6694379.60157925, 4355303.85103454, 3882047.55730906,\n",
       "       4355303.85103454, 5960687.25685624, 4355303.85103454,\n",
       "       3882047.55730906, 4355303.85103454, 4355303.85103454,\n",
       "       3882047.55730906, 4355303.85103454, 5747867.0141283 ,\n",
       "       4828560.14476002, 5487430.96313077, 6035508.78320851,\n",
       "       3882047.55730906, 4355303.85103454, 4828560.14476002,\n",
       "       5014174.66940529, 5562252.48948303, 3882047.55730906,\n",
       "       4355303.85103454, 5562252.48948303, 4355303.85103454,\n",
       "       5562252.48948303, 5014174.66940529, 4355303.85103454,\n",
       "       4355303.85103454, 4355303.85103454, 4355303.85103454,\n",
       "       4355303.85103454, 4355303.85103454, 3882047.55730906,\n",
       "       5562252.48948303, 4355303.85103454, 4828560.14476002,\n",
       "       4355303.85103454, 4355303.85103454, 4355303.85103454,\n",
       "       3882047.55730906, 8449406.06010548, 3882047.55730906,\n",
       "       3882047.55730906, 3882047.55730906, 6035508.78320851,\n",
       "       4355303.85103454, 4540918.37567981, 5014174.66940529,\n",
       "       6694379.60157925, 3882047.55730906, 4355303.85103454,\n",
       "       3882047.55730906, 4355303.85103454, 4540918.37567981,\n",
       "       6508765.07693398, 5562252.48948303, 4355303.85103454,\n",
       "       3882047.55730906, 4828560.14476002, 3882047.55730906,\n",
       "       3882047.55730906, 7715713.71538247, 3882047.55730906,\n",
       "       4355303.85103454, 3882047.55730906, 4355303.85103454,\n",
       "       4355303.85103454, 5562252.48948303, 4355303.85103454,\n",
       "       5014174.66940529, 4355303.85103454, 4355303.85103454,\n",
       "       6508765.07693398, 4355303.85103454, 4355303.85103454,\n",
       "       4355303.85103454, 6221123.30785378, 3882047.55730906,\n",
       "       5775072.73221097, 4355303.85103454, 4355303.85103454,\n",
       "       4355303.85103454, 4355303.85103454, 4355303.85103454,\n",
       "       4355303.85103454, 4355303.85103454, 5088996.19575755,\n",
       "       4355303.85103454, 6694379.60157925, 3882047.55730906,\n",
       "       6221123.30785378, 4355303.85103454, 5562252.48948303,\n",
       "       3882047.55730906, 3882047.55730906, 3882047.55730906,\n",
       "       4828560.14476002, 6035508.78320851, 4540918.37567981,\n",
       "       5014174.66940529, 6035508.78320851, 4355303.85103454,\n",
       "       4355303.85103454, 4355303.85103454, 5014174.66940529,\n",
       "       5014174.66940529, 3882047.55730906, 6035508.78320851,\n",
       "       4828560.14476002, 4355303.85103454, 4355303.85103454,\n",
       "       3408791.26358359, 4355303.85103454, 6694379.60157925,\n",
       "       7428071.94630226, 6508765.07693398, 6769201.12793151,\n",
       "       4355303.85103454, 5487430.96313077, 3882047.55730906,\n",
       "       6035508.78320851, 3882047.55730906, 6694379.60157925,\n",
       "       5562252.48948303, 4355303.85103454, 5562252.48948303,\n",
       "       4355303.85103454, 7715713.71538247, 5747867.0141283 ,\n",
       "       5301816.43848549, 5562252.48948303, 6221123.30785378,\n",
       "       4355303.85103454, 6035508.78320851, 5562252.48948303,\n",
       "       5487430.96313077, 6035508.78320851, 4355303.85103454,\n",
       "       4355303.85103454, 5562252.48948303, 3882047.55730906,\n",
       "       4355303.85103454, 4355303.85103454, 5487430.96313077,\n",
       "       5014174.66940529, 4355303.85103454, 3882047.55730906,\n",
       "       4355303.85103454, 3882047.55730906, 3882047.55730906,\n",
       "       4355303.85103454, 4355303.85103454, 5562252.48948303,\n",
       "       5014174.66940529, 3882047.55730906, 3882047.55730906,\n",
       "       3882047.55730906, 3882047.55730906, 4355303.85103454,\n",
       "       4355303.85103454, 4828560.14476002, 6221123.30785378,\n",
       "       6035508.78320851, 5562252.48948303, 5014174.66940529,\n",
       "       4828560.14476002, 4355303.85103454, 4355303.85103454,\n",
       "       4355303.85103454, 5301816.43848549, 5014174.66940529,\n",
       "       3882047.55730906, 4355303.85103454, 4355303.85103454,\n",
       "       5487430.96313077, 4355303.85103454, 4828560.14476002,\n",
       "       6035508.78320851, 4540918.37567981, 4355303.85103454,\n",
       "       4355303.85103454, 4355303.85103454, 6035508.78320851,\n",
       "       5088996.19575755, 4355303.85103454, 3882047.55730906,\n",
       "       6035508.78320851, 5562252.48948303, 5562252.48948303,\n",
       "       4355303.85103454, 4355303.85103454, 6221123.30785378,\n",
       "       3882047.55730906, 4355303.85103454, 4828560.14476002,\n",
       "       4355303.85103454, 3882047.55730906, 3882047.55730906,\n",
       "       3882047.55730906, 6508765.07693398, 5562252.48948303,\n",
       "       3882047.55730906, 4828560.14476002, 4355303.85103454,\n",
       "       4355303.85103454, 5562252.48948303, 3882047.55730906,\n",
       "       5562252.48948303, 4540918.37567981, 4355303.85103454,\n",
       "       4355303.85103454, 4355303.85103454, 4355303.85103454,\n",
       "       4355303.85103454, 3882047.55730906, 3882047.55730906,\n",
       "       4355303.85103454, 5562252.48948303, 4828560.14476002,\n",
       "       3882047.55730906, 5562252.48948303, 4355303.85103454,\n",
       "       6035508.78320851, 4828560.14476002, 4355303.85103454,\n",
       "       3882047.55730906, 5014174.66940529, 4828560.14476002,\n",
       "       4355303.85103454, 4355303.85103454, 4355303.85103454,\n",
       "       4828560.14476002, 3882047.55730906, 5014174.66940529,\n",
       "       4355303.85103454, 4355303.85103454, 5562252.48948303,\n",
       "       6221123.30785378, 6694379.60157925, 4355303.85103454,\n",
       "       4355303.85103454, 6221123.30785378, 5562252.48948303,\n",
       "       4355303.85103454, 6035508.78320851, 4355303.85103454,\n",
       "       3882047.55730906, 4355303.85103454, 4355303.85103454,\n",
       "       7901328.24002774, 4355303.85103454, 4540918.37567981,\n",
       "       6035508.78320851, 6694379.60157925, 6221123.30785378,\n",
       "       6035508.78320851, 3882047.55730906, 5014174.66940529,\n",
       "       4355303.85103454, 3882047.55730906, 4355303.85103454,\n",
       "       4540918.37567981, 3882047.55730906, 5960687.25685624,\n",
       "       4540918.37567981, 6035508.78320851, 6694379.60157925,\n",
       "       3882047.55730906, 6221123.30785378, 3882047.55730906,\n",
       "       5562252.48948303, 4355303.85103454, 4540918.37567981,\n",
       "       4355303.85103454, 3882047.55730906, 4355303.85103454,\n",
       "       4828560.14476002, 4355303.85103454, 4355303.85103454,\n",
       "       3882047.55730906, 6769201.12793151, 4828560.14476002,\n",
       "       4355303.85103454, 3882047.55730906, 4355303.85103454,\n",
       "       5014174.66940529, 4828560.14476002, 5014174.66940529,\n",
       "       5562252.48948303, 6221123.30785378, 4355303.85103454,\n",
       "       3882047.55730906, 3882047.55730906, 4355303.85103454,\n",
       "       4355303.85103454, 6035508.78320851, 5562252.48948303,\n",
       "       4828560.14476002, 6035508.78320851, 5562252.48948303,\n",
       "       3882047.55730906, 3882047.55730906, 6221123.30785378,\n",
       "       6221123.30785378, 4355303.85103454, 5014174.66940529,\n",
       "       3408791.26358359, 4355303.85103454, 3882047.55730906,\n",
       "       5487430.96313077, 3882047.55730906, 4355303.85103454,\n",
       "       5562252.48948303, 4355303.85103454, 3882047.55730906])"
      ]
     },
     "execution_count": 85,
     "metadata": {},
     "output_type": "execute_result"
    }
   ],
   "source": [
    "y_predict_test"
   ]
  },
  {
   "cell_type": "code",
   "execution_count": 86,
   "id": "9b9626ab",
   "metadata": {},
   "outputs": [
    {
     "data": {
      "text/plain": [
       "0.4046766480945394"
      ]
     },
     "execution_count": 86,
     "metadata": {},
     "output_type": "execute_result"
    }
   ],
   "source": [
    "from sklearn.metrics import r2_score\n",
    "r2_score(y_test,y_predict_test)"
   ]
  },
  {
   "cell_type": "code",
   "execution_count": null,
   "id": "22ee0021",
   "metadata": {},
   "outputs": [],
   "source": []
  }
 ],
 "metadata": {
  "kernelspec": {
   "display_name": "Python 3 (ipykernel)",
   "language": "python",
   "name": "python3"
  },
  "language_info": {
   "codemirror_mode": {
    "name": "ipython",
    "version": 3
   },
   "file_extension": ".py",
   "mimetype": "text/x-python",
   "name": "python",
   "nbconvert_exporter": "python",
   "pygments_lexer": "ipython3",
   "version": "3.11.5"
  }
 },
 "nbformat": 4,
 "nbformat_minor": 5
}
